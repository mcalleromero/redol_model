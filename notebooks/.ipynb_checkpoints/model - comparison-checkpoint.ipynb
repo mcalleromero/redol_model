{
 "cells": [
  {
   "cell_type": "code",
   "execution_count": 13,
   "metadata": {},
   "outputs": [],
   "source": [
    "import sys\n",
    "sys.path.append('/home/cromero/redol_model/')\n",
    "\n",
    "from sklearn.model_selection import train_test_split\n",
    "from sklearn.metrics import confusion_matrix\n",
    "import pandas as pd\n",
    "\n",
    "import util.properties as properties\n",
    "\n",
    "from sklearn.ensemble import GradientBoostingClassifier\n",
    "from sklearn.ensemble import BaggingClassifier\n",
    "from sklearn.ensemble import RandomForestClassifier\n",
    "\n",
    "from src.Alfredo import *\n",
    "from src.redol import *\n",
    "from src.redol_regression import *"
   ]
  },
  {
   "cell_type": "code",
   "execution_count": 6,
   "metadata": {},
   "outputs": [],
   "source": [
    "def get_data(model=None):\n",
    "    if model:\n",
    "        try:\n",
    "            dataset = pd.read_csv(properties.DATASET_DIRECTORY + model)\n",
    "\n",
    "            cat_columns = ['class']\n",
    "\n",
    "            if sys.argv[1] == \"tic-tac-toe\":\n",
    "                cat_columns = dataset.select_dtypes(['object']).columns\n",
    "\n",
    "            dataset[cat_columns] = dataset[cat_columns].astype('category')\n",
    "            dataset[cat_columns] = dataset[cat_columns].apply(lambda x: x.cat.codes)\n",
    "\n",
    "            dataset = dataset.values\n",
    "\n",
    "            X, y = dataset[:,:-1], dataset[:,-1]\n",
    "\n",
    "            return X, y\n",
    "        except IOError:\n",
    "            print(\"File \\\"{}\\\" does not exist.\".format(sys.argv[1]))\n",
    "            return\n",
    "    else:\n",
    "        raise ValueError(\"File not found\")"
   ]
  },
  {
   "cell_type": "code",
   "execution_count": 15,
   "metadata": {},
   "outputs": [],
   "source": [
    "model = \"wine.csv\"\n",
    "\n",
    "X, y = get_data(model)\n",
    "X_train, X_test, y_train, y_test = train_test_split(X, y, test_size=0.2)"
   ]
  },
  {
   "cell_type": "code",
   "execution_count": 16,
   "metadata": {},
   "outputs": [
    {
     "name": "stdout",
     "output_type": "stream",
     "text": [
      "Entrenamiento RegressionRedol\n",
      "\n",
      "Entrenamiento Redol\n",
      "\n"
     ]
    },
    {
     "name": "stderr",
     "output_type": "stream",
     "text": [
      "/usr/lib/python3.7/site-packages/sklearn/linear_model/logistic.py:432: FutureWarning: Default solver will be changed to 'lbfgs' in 0.22. Specify a solver to silence this warning.\n",
      "  FutureWarning)\n"
     ]
    },
    {
     "name": "stdout",
     "output_type": "stream",
     "text": [
      "Entrenamiento Alfredo\n",
      "\n",
      "Entrenamiento RF\n",
      "\n",
      "Entrenamiento Boosting\n",
      "\n",
      "Entrenamiento Bagging\n",
      "\n"
     ]
    },
    {
     "data": {
      "text/plain": [
       "BaggingClassifier(base_estimator=None, bootstrap=True, bootstrap_features=False,\n",
       "                  max_features=1.0, max_samples=1.0, n_estimators=100,\n",
       "                  n_jobs=None, oob_score=False, random_state=None, verbose=0,\n",
       "                  warm_start=False)"
      ]
     },
     "execution_count": 16,
     "metadata": {},
     "output_type": "execute_result"
    }
   ],
   "source": [
    "n_estimators = 100\n",
    "\n",
    "regressionredolclf = RegressionRedol(n_estimators=n_estimators, perc=0.75)\n",
    "redolclf = Redol(n_estimators=n_estimators, perc=0.75)\n",
    "clf = Alfredo(n_trees=n_estimators, perc=0.75)\n",
    "rfclf = RandomForestClassifier(n_estimators=n_estimators)\n",
    "boostingclf = GradientBoostingClassifier(n_estimators=n_estimators)\n",
    "baggingclf = BaggingClassifier(n_estimators=n_estimators)\n",
    "\n",
    "print(\"Entrenamiento RegressionRedol\\n\")\n",
    "regressionredolclf.fit(X_train, y_train)\n",
    "\n",
    "print(\"Entrenamiento Redol\\n\")\n",
    "redolclf.fit(X_train, y_train)\n",
    "\n",
    "print(\"Entrenamiento Alfredo\\n\")\n",
    "clf.fit(X_train, y_train)\n",
    "\n",
    "print(\"Entrenamiento RF\\n\")\n",
    "rfclf.fit(X_train, y_train)\n",
    "\n",
    "print(\"Entrenamiento Boosting\\n\")\n",
    "boostingclf.fit(X_train, y_train)\n",
    "\n",
    "print(\"Entrenamiento Bagging\\n\")\n",
    "baggingclf.fit(X_train, y_train)"
   ]
  },
  {
   "cell_type": "code",
   "execution_count": 19,
   "metadata": {},
   "outputs": [
    {
     "name": "stdout",
     "output_type": "stream",
     "text": [
      "<src.redol_regression.RegressionRedol object at 0x7f13dd753ed0>\n",
      "[[ 0 13  0]\n",
      " [ 0 15  0]\n",
      " [ 0  8  0]]\n",
      "<src.redol.Redol object at 0x7f13dd8814d0>\n",
      "[[13  0  0]\n",
      " [ 0 15  0]\n",
      " [ 0  0  8]]\n",
      "<src.Alfredo.Alfredo object at 0x7f13de1d8f10>\n",
      "[[13  0  0]\n",
      " [ 1 13  1]\n",
      " [ 0  0  8]]\n",
      "RandomForestClassifier(bootstrap=True, class_weight=None, criterion='gini',\n",
      "                       max_depth=None, max_features='auto', max_leaf_nodes=None,\n",
      "                       min_impurity_decrease=0.0, min_impurity_split=None,\n",
      "                       min_samples_leaf=1, min_samples_split=2,\n",
      "                       min_weight_fraction_leaf=0.0, n_estimators=100,\n",
      "                       n_jobs=None, oob_score=False, random_state=None,\n",
      "                       verbose=0, warm_start=False)\n",
      "[[13  0  0]\n",
      " [ 0 15  0]\n",
      " [ 0  0  8]]\n",
      "GradientBoostingClassifier(criterion='friedman_mse', init=None,\n",
      "                           learning_rate=0.1, loss='deviance', max_depth=3,\n",
      "                           max_features=None, max_leaf_nodes=None,\n",
      "                           min_impurity_decrease=0.0, min_impurity_split=None,\n",
      "                           min_samples_leaf=1, min_samples_split=2,\n",
      "                           min_weight_fraction_leaf=0.0, n_estimators=100,\n",
      "                           n_iter_no_change=None, presort='auto',\n",
      "                           random_state=None, subsample=1.0, tol=0.0001,\n",
      "                           validation_fraction=0.1, verbose=0,\n",
      "                           warm_start=False)\n",
      "[[12  1  0]\n",
      " [ 0 15  0]\n",
      " [ 0  0  8]]\n",
      "BaggingClassifier(base_estimator=None, bootstrap=True, bootstrap_features=False,\n",
      "                  max_features=1.0, max_samples=1.0, n_estimators=100,\n",
      "                  n_jobs=None, oob_score=False, random_state=None, verbose=0,\n",
      "                  warm_start=False)\n",
      "[[12  1  0]\n",
      " [ 0 15  0]\n",
      " [ 0  0  8]]\n"
     ]
    }
   ],
   "source": [
    "for clfi in [regressionredolclf, redolclf,clf,rfclf,boostingclf,baggingclf]:\n",
    "    print(clfi)\n",
    "    print(confusion_matrix(y_test, clfi.predict(X_test)))"
   ]
  }
 ],
 "metadata": {
  "kernelspec": {
   "display_name": "Python 3",
   "language": "python",
   "name": "python3"
  },
  "language_info": {
   "codemirror_mode": {
    "name": "ipython",
    "version": 3
   },
   "file_extension": ".py",
   "mimetype": "text/x-python",
   "name": "python",
   "nbconvert_exporter": "python",
   "pygments_lexer": "ipython3",
   "version": "3.7.4"
  }
 },
 "nbformat": 4,
 "nbformat_minor": 2
}
